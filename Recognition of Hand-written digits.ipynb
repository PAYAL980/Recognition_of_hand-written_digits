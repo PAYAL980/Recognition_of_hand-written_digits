{
 "cells": [
  {
   "cell_type": "markdown",
   "metadata": {},
   "source": [
    "# Neural network to recognize the hand written digits"
   ]
  },
  {
   "cell_type": "markdown",
   "metadata": {},
   "source": [
    "### Import libraries "
   ]
  },
  {
   "cell_type": "code",
   "execution_count": 69,
   "metadata": {},
   "outputs": [],
   "source": [
    "import numpy as np\n",
    "import matplotlib.pyplot\n",
    "%matplotlib inline\n",
    "import scipy.special"
   ]
  },
  {
   "cell_type": "markdown",
   "metadata": {},
   "source": [
    "### Define the Neural network"
   ]
  },
  {
   "cell_type": "code",
   "execution_count": 70,
   "metadata": {},
   "outputs": [],
   "source": [
    "class neuralNetwork:\n",
    "    def _init_(self, inputNodes, hiddenNodes, outputNodes, learningRate):\n",
    "        self.innodes = inputNodes\n",
    "        self.hnodes = hiddenNodes\n",
    "        self.outnodes = outputNodes\n",
    "        self.lrate = learningRate\n",
    "        \n",
    "        self.wih = np.random.normal(0.0, pow(self.hnodes,-0.5), (self.hnodes, self.innodes))\n",
    "        self.woh = np.random.normal(0.0, pow(self.outnodes,-0.5), (self.outnodes, self.hnodes))\n",
    "        \n",
    "        self.activation_function = lambda x: scipy.special.expit(x)\n",
    "        pass\n",
    "    \n",
    "    def train(self, input_list, target_list):\n",
    "        inputs = np.array(input_list, ndmin=2).T\n",
    "        target = np.array(target_list, ndmin=2).T\n",
    "        \n",
    "        hidden_inputs = np.dot(self.wih, inputs)\n",
    "        hidden_output = self.activation_function(hidden_inputs)\n",
    "        \n",
    "        final_inputs = np.dot(self.woh, hidden_output)\n",
    "        final_output = self.activation_function(final_inputs)\n",
    "        \n",
    "        out_error = target-final_output\n",
    "        hidden_error = np.dot(self.woh.T, out_error)\n",
    "        \n",
    "        self.woh += self.lrate * np.dot((out_error* final_output*(1.0- final_output)), np. transpose(hidden_output))\n",
    "        self.wih += self.lrate * np.dot((hidden_error* hidden_output*(1.0- hidden_output)), np. transpose(inputs))\n",
    "        pass\n",
    "    \n",
    "    def query(self, input_list):\n",
    "        inputs = np.array(input_list, ndmin=2).T\n",
    "        hidden_inputs = np.dot(self.wih, inputs)\n",
    "        hidden_output = self.activation_function(hidden_inputs)\n",
    "        \n",
    "        final_inputs = np.dot(self.woh, hidden_output)\n",
    "        final_output = self.activation_function(final_inputs)\n",
    "        \n",
    "        return final_output"
   ]
  },
  {
   "cell_type": "markdown",
   "metadata": {},
   "source": [
    "### Inputs for training the network"
   ]
  },
  {
   "cell_type": "code",
   "execution_count": 71,
   "metadata": {},
   "outputs": [],
   "source": [
    "inputNodes=784\n",
    "hiddenNodes = 200\n",
    "outputNodes = 10\n",
    "\n",
    "learningRate = 0.1\n",
    "\n",
    "n = neuralNetwork()\n",
    "n._init_(inputNodes, hiddenNodes, outputNodes, learningRate)\n",
    "\n",
    "training_datafile = open(\"Desktop/neuralNet/mnist_train.csv\",'r')\n",
    "training_data_list = training_datafile.readlines()\n",
    "training_datafile.close()\n",
    "\n",
    "epochs =5\n",
    "for e in range(epochs):\n",
    "    for record in training_data_list:\n",
    "        all_values = record.split(',')\n",
    "        inputs = (np.asfarray(all_values[1:])/255.0 *0.99)+ 0.01\n",
    "        target = np.zeros(outputNodes)+0.1\n",
    "        target[int(all_values[0])] = 0.99\n",
    "    \n",
    "        n.train(inputs,target)\n",
    "        pass\n",
    "    pass"
   ]
  },
  {
   "cell_type": "markdown",
   "metadata": {},
   "source": [
    "### Import the Test file"
   ]
  },
  {
   "cell_type": "code",
   "execution_count": 72,
   "metadata": {},
   "outputs": [],
   "source": [
    "test_datafile = open('Desktop/neuralNet/mnist_test.csv','r')\n",
    "test_data_list = test_datafile.readlines()\n",
    "test_datafile.close()"
   ]
  },
  {
   "cell_type": "markdown",
   "metadata": {},
   "source": [
    "### Test the neural network "
   ]
  },
  {
   "cell_type": "code",
   "execution_count": 73,
   "metadata": {},
   "outputs": [],
   "source": [
    "#test the neural network\n",
    "scorecard=[]\n",
    "\n",
    "for record in test_data_list:\n",
    "    all_values = record.split(',')\n",
    "    correct_label = int(all_values[0])\n",
    "    inputs = (np.asfarray(all_values[1:])/255.0 *0.99)+ 0.01\n",
    "    output = n.query(inputs)\n",
    "    label = np.argmax(output)\n",
    "    if label==correct_label:\n",
    "        scorecard.append(1)\n",
    "    else:\n",
    "        scorecard.append(0)\n",
    "        pass\n",
    "    pass\n",
    "       "
   ]
  },
  {
   "cell_type": "markdown",
   "metadata": {},
   "source": [
    "### Print the performance of neural network"
   ]
  },
  {
   "cell_type": "code",
   "execution_count": 74,
   "metadata": {},
   "outputs": [
    {
     "name": "stdout",
     "output_type": "stream",
     "text": [
      "performance =  0.9554\n"
     ]
    }
   ],
   "source": [
    "scorecard_array = np.asarray(scorecard)\n",
    "print(\"performance = \", scorecard_array.sum()/scorecard_array.size)"
   ]
  }
 ],
 "metadata": {
  "kernelspec": {
   "display_name": "Python 3",
   "language": "python",
   "name": "python3"
  },
  "language_info": {
   "codemirror_mode": {
    "name": "ipython",
    "version": 3
   },
   "file_extension": ".py",
   "mimetype": "text/x-python",
   "name": "python",
   "nbconvert_exporter": "python",
   "pygments_lexer": "ipython3",
   "version": "3.7.6"
  }
 },
 "nbformat": 4,
 "nbformat_minor": 4
}
